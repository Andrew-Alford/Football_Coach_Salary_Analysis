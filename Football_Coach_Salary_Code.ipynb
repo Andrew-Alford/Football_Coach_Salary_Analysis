{
 "cells": [
  {
   "cell_type": "markdown",
   "id": "a7c3f78f",
   "metadata": {},
   "source": [
    "## Initial Setup"
   ]
  },
  {
   "cell_type": "code",
   "execution_count": 1,
   "id": "8b10b1fc",
   "metadata": {},
   "outputs": [
    {
     "name": "stderr",
     "output_type": "stream",
     "text": [
      "Using `tqdm.autonotebook.tqdm` in notebook mode. Use `tqdm.tqdm` instead to force console mode (e.g. in jupyter console)\n"
     ]
    }
   ],
   "source": [
    "#Importing dependencies\n",
    "\n",
    "import pandas as pd\n",
    "import numpy as np\n",
    "import matplotlib.pyplot as plt\n",
    "from sklearn.linear_model import LinearRegression\n",
    "from sklearn.model_selection import train_test_split\n",
    "from sklearn.metrics import mean_squared_error, r2_score\n",
    "import shap"
   ]
  },
  {
   "cell_type": "code",
   "execution_count": 2,
   "id": "f96f7daa",
   "metadata": {},
   "outputs": [
    {
     "data": {
      "text/html": [
       "<div>\n",
       "<style scoped>\n",
       "    .dataframe tbody tr th:only-of-type {\n",
       "        vertical-align: middle;\n",
       "    }\n",
       "\n",
       "    .dataframe tbody tr th {\n",
       "        vertical-align: top;\n",
       "    }\n",
       "\n",
       "    .dataframe thead th {\n",
       "        text-align: right;\n",
       "    }\n",
       "</style>\n",
       "<table border=\"1\" class=\"dataframe\">\n",
       "  <thead>\n",
       "    <tr style=\"text-align: right;\">\n",
       "      <th></th>\n",
       "      <th>School</th>\n",
       "      <th>Conference</th>\n",
       "      <th>Coach</th>\n",
       "      <th>SchoolPay</th>\n",
       "      <th>TotalPay</th>\n",
       "      <th>Bonus</th>\n",
       "      <th>BonusPaid</th>\n",
       "      <th>AssistantPay</th>\n",
       "      <th>Buyout</th>\n",
       "    </tr>\n",
       "  </thead>\n",
       "  <tbody>\n",
       "    <tr>\n",
       "      <th>0</th>\n",
       "      <td>Air Force</td>\n",
       "      <td>Mt. West</td>\n",
       "      <td>Troy Calhoun</td>\n",
       "      <td>885000</td>\n",
       "      <td>885000</td>\n",
       "      <td>247000</td>\n",
       "      <td>--</td>\n",
       "      <td>$0</td>\n",
       "      <td>--</td>\n",
       "    </tr>\n",
       "    <tr>\n",
       "      <th>1</th>\n",
       "      <td>Akron</td>\n",
       "      <td>MAC</td>\n",
       "      <td>Terry Bowden</td>\n",
       "      <td>$411,000</td>\n",
       "      <td>$412,500</td>\n",
       "      <td>$225,000</td>\n",
       "      <td>$50,000</td>\n",
       "      <td>$0</td>\n",
       "      <td>$688,500</td>\n",
       "    </tr>\n",
       "    <tr>\n",
       "      <th>2</th>\n",
       "      <td>Alabama</td>\n",
       "      <td>SEC</td>\n",
       "      <td>Nick Saban</td>\n",
       "      <td>$8,307,000</td>\n",
       "      <td>$8,307,000</td>\n",
       "      <td>$1,100,000</td>\n",
       "      <td>$500,000</td>\n",
       "      <td>$0</td>\n",
       "      <td>$33,600,000</td>\n",
       "    </tr>\n",
       "    <tr>\n",
       "      <th>3</th>\n",
       "      <td>Alabama at Birmingham</td>\n",
       "      <td>C-USA</td>\n",
       "      <td>Bill Clark</td>\n",
       "      <td>$900,000</td>\n",
       "      <td>$900,000</td>\n",
       "      <td>$950,000</td>\n",
       "      <td>$165,471</td>\n",
       "      <td>$0</td>\n",
       "      <td>$3,847,500</td>\n",
       "    </tr>\n",
       "    <tr>\n",
       "      <th>4</th>\n",
       "      <td>Appalachian State</td>\n",
       "      <td>Sun Belt</td>\n",
       "      <td>Scott Satterfield</td>\n",
       "      <td>$712,500</td>\n",
       "      <td>$712,500</td>\n",
       "      <td>$295,000</td>\n",
       "      <td>$145,000</td>\n",
       "      <td>$0</td>\n",
       "      <td>$2,160,417</td>\n",
       "    </tr>\n",
       "    <tr>\n",
       "      <th>...</th>\n",
       "      <td>...</td>\n",
       "      <td>...</td>\n",
       "      <td>...</td>\n",
       "      <td>...</td>\n",
       "      <td>...</td>\n",
       "      <td>...</td>\n",
       "      <td>...</td>\n",
       "      <td>...</td>\n",
       "      <td>...</td>\n",
       "    </tr>\n",
       "    <tr>\n",
       "      <th>124</th>\n",
       "      <td>West Virginia</td>\n",
       "      <td>Big 12</td>\n",
       "      <td>Dana Holgorsen</td>\n",
       "      <td>$3,605,000</td>\n",
       "      <td>$3,617,500</td>\n",
       "      <td>$1,000,000</td>\n",
       "      <td>$90,000</td>\n",
       "      <td>$0</td>\n",
       "      <td>$7,150,000</td>\n",
       "    </tr>\n",
       "    <tr>\n",
       "      <th>125</th>\n",
       "      <td>Western Kentucky</td>\n",
       "      <td>C-USA</td>\n",
       "      <td>Mike Sanford Jr.</td>\n",
       "      <td>$800,000</td>\n",
       "      <td>$805,850</td>\n",
       "      <td>$400,000</td>\n",
       "      <td>$0</td>\n",
       "      <td>$0</td>\n",
       "      <td>$1,200,000</td>\n",
       "    </tr>\n",
       "    <tr>\n",
       "      <th>126</th>\n",
       "      <td>Western Michigan</td>\n",
       "      <td>MAC</td>\n",
       "      <td>Tim Lester</td>\n",
       "      <td>$800,000</td>\n",
       "      <td>$800,000</td>\n",
       "      <td>$346,500</td>\n",
       "      <td>$39,250</td>\n",
       "      <td>$0</td>\n",
       "      <td>$800,000</td>\n",
       "    </tr>\n",
       "    <tr>\n",
       "      <th>127</th>\n",
       "      <td>Wisconsin</td>\n",
       "      <td>Big Ten</td>\n",
       "      <td>Paul Chryst</td>\n",
       "      <td>$3,750,000</td>\n",
       "      <td>$3,750,000</td>\n",
       "      <td>--</td>\n",
       "      <td>$290,000</td>\n",
       "      <td>$0</td>\n",
       "      <td>$6,000,000</td>\n",
       "    </tr>\n",
       "    <tr>\n",
       "      <th>128</th>\n",
       "      <td>Wyoming</td>\n",
       "      <td>Mt. West</td>\n",
       "      <td>Craig Bohl</td>\n",
       "      <td>$1,412,000</td>\n",
       "      <td>$1,412,000</td>\n",
       "      <td>$450,000</td>\n",
       "      <td>$236,000</td>\n",
       "      <td>$0</td>\n",
       "      <td>$8,016,667</td>\n",
       "    </tr>\n",
       "  </tbody>\n",
       "</table>\n",
       "<p>129 rows × 9 columns</p>\n",
       "</div>"
      ],
      "text/plain": [
       "                    School Conference              Coach    SchoolPay   \n",
       "0                Air Force   Mt. West       Troy Calhoun       885000  \\\n",
       "1                    Akron        MAC       Terry Bowden    $411,000    \n",
       "2                  Alabama        SEC         Nick Saban  $8,307,000    \n",
       "3    Alabama at Birmingham      C-USA         Bill Clark    $900,000    \n",
       "4        Appalachian State   Sun Belt  Scott Satterfield    $712,500    \n",
       "..                     ...        ...                ...          ...   \n",
       "124          West Virginia     Big 12     Dana Holgorsen  $3,605,000    \n",
       "125       Western Kentucky      C-USA   Mike Sanford Jr.    $800,000    \n",
       "126       Western Michigan        MAC         Tim Lester    $800,000    \n",
       "127              Wisconsin    Big Ten        Paul Chryst  $3,750,000    \n",
       "128                Wyoming   Mt. West         Craig Bohl  $1,412,000    \n",
       "\n",
       "        TotalPay        Bonus  BonusPaid AssistantPay        Buyout  \n",
       "0         885000       247000         --          $0             --  \n",
       "1      $412,500     $225,000    $50,000           $0      $688,500   \n",
       "2    $8,307,000   $1,100,000   $500,000           $0   $33,600,000   \n",
       "3      $900,000     $950,000   $165,471           $0    $3,847,500   \n",
       "4      $712,500     $295,000   $145,000           $0    $2,160,417   \n",
       "..           ...          ...        ...          ...           ...  \n",
       "124  $3,617,500   $1,000,000    $90,000           $0    $7,150,000   \n",
       "125    $805,850     $400,000         $0           $0    $1,200,000   \n",
       "126    $800,000     $346,500    $39,250           $0      $800,000   \n",
       "127  $3,750,000            --  $290,000           $0    $6,000,000   \n",
       "128  $1,412,000     $450,000   $236,000           $0    $8,016,667   \n",
       "\n",
       "[129 rows x 9 columns]"
      ]
     },
     "execution_count": 2,
     "metadata": {},
     "output_type": "execute_result"
    }
   ],
   "source": [
    "#Reading csv and creating pandas dataframe\n",
    "\n",
    "coaches = pd.read_csv(\"C:\\\\Users\\\\Andrew\\\\Documents\\\\Syracuse University\\\\2023 Documents\\\\IST 718 Big Data Analytics\\\\Labs\\\\Lab 1\\\\Data Sets\\\\Coaches9.csv\")\n",
    "\n",
    "coaches_df = pd.DataFrame(coaches)\n",
    "\n",
    "#Validating dataframe looks good\n",
    "coaches_df"
   ]
  },
  {
   "cell_type": "markdown",
   "id": "6fbc8008",
   "metadata": {},
   "source": [
    "## Scrubbing/Cleaning "
   ]
  },
  {
   "cell_type": "code",
   "execution_count": 3,
   "id": "2f545b04",
   "metadata": {},
   "outputs": [],
   "source": [
    "#Removing commas and dollar signs from monetary columns \n",
    "\n",
    "coaches_df['SchoolPay'] = coaches_df['SchoolPay'].str.replace(',','').str.replace('$','')\n",
    "coaches_df['TotalPay'] = coaches_df['TotalPay'].str.replace(',','').str.replace('$','')\n",
    "coaches_df['Bonus'] = coaches_df['Bonus'].str.replace(',','').str.replace('$','')\n",
    "coaches_df['BonusPaid'] = coaches_df['BonusPaid'].str.replace(',','').str.replace('$','')\n",
    "coaches_df['AssistantPay'] = coaches_df['AssistantPay'].str.replace(',','').str.replace('$','')\n",
    "coaches_df['Buyout'] = coaches_df['Buyout'].str.replace(',','').str.replace('$','')\n",
    "\n",
    "#coaches_df"
   ]
  },
  {
   "cell_type": "code",
   "execution_count": 4,
   "id": "51e699a0",
   "metadata": {},
   "outputs": [],
   "source": [
    "#Replacing '--' values with NaN in df\n",
    "\n",
    "coaches_df['SchoolPay'] = coaches_df['SchoolPay'].replace('--', np.NaN)\n",
    "coaches_df['TotalPay'] = coaches_df['TotalPay'].replace('--', np.NaN)\n",
    "coaches_df['Bonus'] = coaches_df['Bonus'].replace('--', np.NaN)\n",
    "coaches_df['BonusPaid'] = coaches_df['BonusPaid'].replace('--', np.NaN)\n",
    "coaches_df['AssistantPay'] = coaches_df['AssistantPay'].replace('--', np.NaN)\n",
    "coaches_df['Buyout'] = coaches_df['Buyout'].replace('--', np.NaN)\n",
    "\n",
    "#coaches_df"
   ]
  },
  {
   "cell_type": "code",
   "execution_count": 5,
   "id": "af3be435",
   "metadata": {},
   "outputs": [],
   "source": [
    "#Removing four rows where there are NaN values in each column.  \n",
    "#The four schools, in the order listed below, are Baylor, Brigham Young, Rice, and Southern Methodist.\n",
    "\n",
    "coaches_df = coaches_df.drop([12, 16, 91, 99])\n",
    "\n",
    "#Resetting the index of the df\n",
    "coaches_df = coaches_df.reset_index(drop=True)"
   ]
  },
  {
   "cell_type": "code",
   "execution_count": 6,
   "id": "43b6eb1d",
   "metadata": {},
   "outputs": [
    {
     "name": "stdout",
     "output_type": "stream",
     "text": [
      "There are 0 NaN values in the SchoolPay column\n",
      "There are 0 NaN values in the TotalPay column\n",
      "There are 17 NaN values in the Bonus column\n",
      "There are 36 NaN values in the BonusPaid column\n",
      "There are 0 NaN values in the AssistantPay column\n",
      "There are 17 NaN values in the Buyout column\n"
     ]
    }
   ],
   "source": [
    "#Checking for null values in df\n",
    "\n",
    "print(f\"There are {coaches_df['SchoolPay'].isna().sum()} NaN values in the SchoolPay column\")\n",
    "print(f\"There are {coaches_df['TotalPay'].isna().sum()} NaN values in the TotalPay column\")\n",
    "print(f\"There are {coaches_df['Bonus'].isna().sum()} NaN values in the Bonus column\")\n",
    "print(f\"There are {coaches_df['BonusPaid'].isna().sum()} NaN values in the BonusPaid column\")\n",
    "print(f\"There are {coaches_df['AssistantPay'].isna().sum()} NaN values in the AssistantPay column\")\n",
    "print(f\"There are {coaches_df['Buyout'].isna().sum()} NaN values in the Buyout column\")"
   ]
  },
  {
   "cell_type": "code",
   "execution_count": 7,
   "id": "afca3974",
   "metadata": {},
   "outputs": [
    {
     "name": "stdout",
     "output_type": "stream",
     "text": [
      "SchoolPay: <class 'numpy.int64'>\n",
      "TotalPay: <class 'numpy.int64'>\n",
      "Bonus: <class 'numpy.float64'>\n",
      "BonusPaid: <class 'numpy.float64'>\n",
      "AssistantPay: <class 'numpy.int64'>\n",
      "Buyout: <class 'numpy.float64'>\n"
     ]
    }
   ],
   "source": [
    "#Converting monetary columns from strings to numeric\n",
    "\n",
    "coaches_df['SchoolPay'] = coaches_df['SchoolPay'].apply(pd.to_numeric)\n",
    "coaches_df['TotalPay'] = coaches_df['TotalPay'].apply(pd.to_numeric)\n",
    "coaches_df['Bonus'] = coaches_df['Bonus'].apply(pd.to_numeric)\n",
    "coaches_df['BonusPaid'] = coaches_df['BonusPaid'].apply(pd.to_numeric)\n",
    "coaches_df['AssistantPay'] = coaches_df['AssistantPay'].apply(pd.to_numeric)\n",
    "coaches_df['Buyout'] = coaches_df['Buyout'].apply(pd.to_numeric)\n",
    "\n",
    "#Double checking individual values to make sure they are, in fact, numeric\n",
    "print(f\"SchoolPay: {type(coaches_df['SchoolPay'].iloc[1])}\")\n",
    "print(f\"TotalPay: {type(coaches_df['TotalPay'].iloc[1])}\")\n",
    "print(f\"Bonus: {type(coaches_df['Bonus'].iloc[1])}\")\n",
    "print(f\"BonusPaid: {type(coaches_df['BonusPaid'].iloc[1])}\")\n",
    "print(f\"AssistantPay: {type(coaches_df['AssistantPay'].iloc[1])}\")\n",
    "print(f\"Buyout: {type(coaches_df['Buyout'].iloc[1])}\")"
   ]
  },
  {
   "cell_type": "code",
   "execution_count": 8,
   "id": "9c8fa58c",
   "metadata": {},
   "outputs": [],
   "source": [
    "#Checking to make sure no spelling errors in each unique string column\n",
    "\n",
    "#coaches_df['School'].unique()\n",
    "#coaches_df['Conference'].unique()\n",
    "#coaches_df['Coach'].unique()\n",
    "\n",
    "#No spelling discrepancies detected"
   ]
  },
  {
   "cell_type": "markdown",
   "id": "f12bd872",
   "metadata": {},
   "source": [
    "## Adding Additional Data Sets"
   ]
  },
  {
   "cell_type": "markdown",
   "id": "8c5579ba",
   "metadata": {},
   "source": [
    "#### Stadium Size Data Set "
   ]
  },
  {
   "cell_type": "code",
   "execution_count": 9,
   "id": "13896cc0",
   "metadata": {},
   "outputs": [],
   "source": [
    "#Reading in stadium size csv\n",
    "\n",
    "stadium_size = pd.read_csv(\"C:\\\\Users\\\\Andrew\\\\Documents\\\\Syracuse University\\\\2023 Documents\\\\IST 718 Big Data Analytics\\\\Labs\\\\Lab 1\\\\Data Sets\\\\718_Lab_1_Stadium_Sizes.csv\")\n",
    "\n",
    "stadium_size_df = pd.DataFrame(stadium_size)\n",
    "\n",
    "#Checking to make sure data frame imported correctly\n",
    "#stadium_size_df"
   ]
  },
  {
   "cell_type": "code",
   "execution_count": 10,
   "id": "4942ece6",
   "metadata": {},
   "outputs": [],
   "source": [
    "#Adding stadium size column to coaches_df data frame\n",
    "\n",
    "coaches_df['StadiumSize'] = stadium_size_df['StadiumSize']\n",
    "\n",
    "#Double checking that the column imported correctly\n",
    "#coaches_df"
   ]
  },
  {
   "cell_type": "code",
   "execution_count": 11,
   "id": "b7601120",
   "metadata": {},
   "outputs": [
    {
     "name": "stdout",
     "output_type": "stream",
     "text": [
      "Stadium Size: <class 'numpy.int64'>\n"
     ]
    }
   ],
   "source": [
    "#Making sure Stadium Size column is numeric\n",
    "\n",
    "print(f\"Stadium Size: {type(coaches_df['StadiumSize'].iloc[1])}\")"
   ]
  },
  {
   "cell_type": "markdown",
   "id": "77981963",
   "metadata": {},
   "source": [
    "#### GSR and FGR Data Set "
   ]
  },
  {
   "cell_type": "code",
   "execution_count": 12,
   "id": "5842327c",
   "metadata": {},
   "outputs": [],
   "source": [
    "#Reading in GSR and FGR data set\n",
    "\n",
    "gsr_and_fgr = pd.read_csv(\"C:\\\\Users\\\\Andrew\\\\Documents\\\\Syracuse University\\\\2023 Documents\\\\IST 718 Big Data Analytics\\\\Labs\\\\Lab 1\\\\Data Sets\\\\718_Lab_1_GSR_FGR.csv\")\n",
    "\n",
    "gsr_and_fgr_df = pd.DataFrame(gsr_and_fgr)\n",
    "\n",
    "#Checking to make sure data frame imported correctly\n",
    "#gsr_and_fgr_df"
   ]
  },
  {
   "cell_type": "code",
   "execution_count": 13,
   "id": "d3920945",
   "metadata": {},
   "outputs": [],
   "source": [
    "#Adding the GSR and FGR columns to the coaches_df data set\n",
    "\n",
    "coaches_df['GSR'] = gsr_and_fgr_df['GSR']\n",
    "coaches_df['FGR'] = gsr_and_fgr_df['FGR']\n",
    "\n",
    "#Making sure column imported correctly\n",
    "#coaches_df"
   ]
  },
  {
   "cell_type": "code",
   "execution_count": 14,
   "id": "7a03c373",
   "metadata": {},
   "outputs": [
    {
     "name": "stdout",
     "output_type": "stream",
     "text": [
      "GSR: <class 'numpy.int64'>\n",
      "FGR: <class 'numpy.float64'>\n"
     ]
    }
   ],
   "source": [
    "#Making sure both GSR and FGR columns are numeric\n",
    "\n",
    "print(f\"GSR: {type(coaches_df['GSR'].iloc[1])}\")\n",
    "print(f\"FGR: {type(coaches_df['FGR'].iloc[1])}\")"
   ]
  },
  {
   "cell_type": "markdown",
   "id": "36f65512",
   "metadata": {},
   "source": [
    "#### Revenue Data Set "
   ]
  },
  {
   "cell_type": "code",
   "execution_count": 15,
   "id": "d17c3bbb",
   "metadata": {},
   "outputs": [],
   "source": [
    "#Reading in revenue data set\n",
    "\n",
    "revenue = pd.read_csv(\"C:\\\\Users\\\\Andrew\\\\Documents\\\\Syracuse University\\\\2023 Documents\\\\IST 718 Big Data Analytics\\\\Labs\\\\Lab 1\\\\Data Sets\\\\718_Lab_1_Revenue.csv\")\n",
    "\n",
    "revenue_df = pd.DataFrame(revenue)\n",
    "\n",
    "#Checking to make sure data frame imported correctly\n",
    "#revenue_df"
   ]
  },
  {
   "cell_type": "code",
   "execution_count": 16,
   "id": "2d45df20",
   "metadata": {},
   "outputs": [],
   "source": [
    "#Adding revenue column to coaches_df data set\n",
    "\n",
    "coaches_df['Revenue'] = revenue_df['Revenue']\n",
    "\n",
    "#Making sure column imported correctly\n",
    "#coaches_df"
   ]
  },
  {
   "cell_type": "code",
   "execution_count": 17,
   "id": "4249f3d3",
   "metadata": {},
   "outputs": [
    {
     "name": "stdout",
     "output_type": "stream",
     "text": [
      "Revenue: <class 'numpy.float64'>\n"
     ]
    }
   ],
   "source": [
    "#Making sure revenue column is numeric\n",
    "\n",
    "print(f\"Revenue: {type(coaches_df['Revenue'].iloc[1])}\")"
   ]
  },
  {
   "cell_type": "markdown",
   "id": "e3c7db3f",
   "metadata": {},
   "source": [
    "#### Wins/Losses Data Set "
   ]
  },
  {
   "cell_type": "code",
   "execution_count": 18,
   "id": "08c3b498",
   "metadata": {},
   "outputs": [],
   "source": [
    "#Reading in wins/losses data set\n",
    "\n",
    "wins_losses = pd.read_csv(\"C:\\\\Users\\\\Andrew\\\\Documents\\\\Syracuse University\\\\2023 Documents\\\\IST 718 Big Data Analytics\\\\Labs\\\\Lab 1\\\\Data Sets\\\\718_Lab_1_Wins_Losses.csv\")\n",
    "\n",
    "wins_losses_df = pd.DataFrame(wins_losses)\n",
    "\n",
    "#Checking to make sure data frame imported correctly\n",
    "#wins_losses_df"
   ]
  },
  {
   "cell_type": "code",
   "execution_count": 19,
   "id": "c6ab3500",
   "metadata": {},
   "outputs": [],
   "source": [
    "#Adding Wins and Losses columns to coaches_df data set\n",
    "\n",
    "coaches_df['Wins'] = wins_losses_df['Wins']\n",
    "coaches_df['Losses'] = wins_losses_df['Losses']\n",
    "\n",
    "#Making sure column imported correctly\n",
    "#coaches_df"
   ]
  },
  {
   "cell_type": "code",
   "execution_count": 20,
   "id": "909e850c",
   "metadata": {},
   "outputs": [
    {
     "name": "stdout",
     "output_type": "stream",
     "text": [
      "Wins: <class 'numpy.int64'>\n",
      "Losses: <class 'numpy.int64'>\n"
     ]
    }
   ],
   "source": [
    "#Making sure both Wins and Losses columns are numeric\n",
    "\n",
    "print(f\"Wins: {type(coaches_df['Wins'].iloc[0])}\")\n",
    "print(f\"Losses: {type(coaches_df['Losses'].iloc[0])}\")"
   ]
  },
  {
   "cell_type": "markdown",
   "id": "b4b00591",
   "metadata": {},
   "source": [
    "#### Coordinates Data Set"
   ]
  },
  {
   "cell_type": "code",
   "execution_count": 21,
   "id": "037f5faf",
   "metadata": {},
   "outputs": [],
   "source": [
    "#Reading in Coordinates data set\n",
    "\n",
    "coordinates = pd.read_csv(\"C:\\\\Users\\\\Andrew\\\\Documents\\\\Syracuse University\\\\2023 Documents\\\\IST 718 Big Data Analytics\\\\Labs\\\\Lab 1\\\\Data Sets\\\\718_Lab_1_Coordinates.csv\")\n",
    "\n",
    "coordinates_df = pd.DataFrame(coordinates)\n",
    "\n",
    "#Making sure data frame imported correctly\n",
    "#coordinates_df"
   ]
  },
  {
   "cell_type": "code",
   "execution_count": 22,
   "id": "b360f144",
   "metadata": {},
   "outputs": [],
   "source": [
    "#Adding coordinates columns to the coaches_df data set\n",
    "\n",
    "coaches_df['Latitude'] = coordinates_df['Latitude']\n",
    "coaches_df['Longitude'] = coordinates_df['Longitude']\n",
    "\n",
    "#Making sure column imported correctly\n",
    "#coaches_df"
   ]
  },
  {
   "cell_type": "code",
   "execution_count": 23,
   "id": "e9cf7a51",
   "metadata": {},
   "outputs": [
    {
     "name": "stdout",
     "output_type": "stream",
     "text": [
      "Latitude: <class 'numpy.float64'>\n",
      "Longitude: <class 'numpy.float64'>\n"
     ]
    }
   ],
   "source": [
    "#Making sure both Latitude and Longitude columns are numeric\n",
    "\n",
    "print(f\"Latitude: {type(coaches_df['Latitude'].iloc[0])}\")\n",
    "print(f\"Longitude: {type(coaches_df['Longitude'].iloc[0])}\")"
   ]
  },
  {
   "cell_type": "code",
   "execution_count": 24,
   "id": "611d8967",
   "metadata": {},
   "outputs": [
    {
     "data": {
      "text/html": [
       "<div>\n",
       "<style scoped>\n",
       "    .dataframe tbody tr th:only-of-type {\n",
       "        vertical-align: middle;\n",
       "    }\n",
       "\n",
       "    .dataframe tbody tr th {\n",
       "        vertical-align: top;\n",
       "    }\n",
       "\n",
       "    .dataframe thead th {\n",
       "        text-align: right;\n",
       "    }\n",
       "</style>\n",
       "<table border=\"1\" class=\"dataframe\">\n",
       "  <thead>\n",
       "    <tr style=\"text-align: right;\">\n",
       "      <th></th>\n",
       "      <th>School</th>\n",
       "      <th>Conference</th>\n",
       "      <th>Coach</th>\n",
       "      <th>SchoolPay</th>\n",
       "      <th>TotalPay</th>\n",
       "      <th>Bonus</th>\n",
       "      <th>BonusPaid</th>\n",
       "      <th>AssistantPay</th>\n",
       "      <th>Buyout</th>\n",
       "      <th>StadiumSize</th>\n",
       "      <th>GSR</th>\n",
       "      <th>FGR</th>\n",
       "      <th>Revenue</th>\n",
       "      <th>Wins</th>\n",
       "      <th>Losses</th>\n",
       "      <th>Latitude</th>\n",
       "      <th>Longitude</th>\n",
       "    </tr>\n",
       "  </thead>\n",
       "  <tbody>\n",
       "    <tr>\n",
       "      <th>0</th>\n",
       "      <td>Air Force</td>\n",
       "      <td>Mt. West</td>\n",
       "      <td>Troy Calhoun</td>\n",
       "      <td>885000</td>\n",
       "      <td>885000</td>\n",
       "      <td>247000.0</td>\n",
       "      <td>NaN</td>\n",
       "      <td>0</td>\n",
       "      <td>NaN</td>\n",
       "      <td>52237</td>\n",
       "      <td>93</td>\n",
       "      <td>NaN</td>\n",
       "      <td>NaN</td>\n",
       "      <td>424</td>\n",
       "      <td>338</td>\n",
       "      <td>38.996907</td>\n",
       "      <td>-104.843688</td>\n",
       "    </tr>\n",
       "    <tr>\n",
       "      <th>1</th>\n",
       "      <td>Akron</td>\n",
       "      <td>MAC</td>\n",
       "      <td>Terry Bowden</td>\n",
       "      <td>411000</td>\n",
       "      <td>412500</td>\n",
       "      <td>225000.0</td>\n",
       "      <td>50000.0</td>\n",
       "      <td>0</td>\n",
       "      <td>688500.0</td>\n",
       "      <td>30000</td>\n",
       "      <td>74</td>\n",
       "      <td>76.0</td>\n",
       "      <td>12354872.0</td>\n",
       "      <td>528</td>\n",
       "      <td>583</td>\n",
       "      <td>41.072570</td>\n",
       "      <td>-81.508384</td>\n",
       "    </tr>\n",
       "    <tr>\n",
       "      <th>2</th>\n",
       "      <td>Alabama</td>\n",
       "      <td>SEC</td>\n",
       "      <td>Nick Saban</td>\n",
       "      <td>8307000</td>\n",
       "      <td>8307000</td>\n",
       "      <td>1100000.0</td>\n",
       "      <td>500000.0</td>\n",
       "      <td>0</td>\n",
       "      <td>33600000.0</td>\n",
       "      <td>101821</td>\n",
       "      <td>89</td>\n",
       "      <td>66.0</td>\n",
       "      <td>140831439.0</td>\n",
       "      <td>953</td>\n",
       "      <td>335</td>\n",
       "      <td>33.207490</td>\n",
       "      <td>-87.550392</td>\n",
       "    </tr>\n",
       "    <tr>\n",
       "      <th>3</th>\n",
       "      <td>Alabama at Birmingham</td>\n",
       "      <td>C-USA</td>\n",
       "      <td>Bill Clark</td>\n",
       "      <td>900000</td>\n",
       "      <td>900000</td>\n",
       "      <td>950000.0</td>\n",
       "      <td>165471.0</td>\n",
       "      <td>0</td>\n",
       "      <td>3847500.0</td>\n",
       "      <td>71594</td>\n",
       "      <td>80</td>\n",
       "      <td>44.0</td>\n",
       "      <td>28840003.0</td>\n",
       "      <td>168</td>\n",
       "      <td>179</td>\n",
       "      <td>NaN</td>\n",
       "      <td>NaN</td>\n",
       "    </tr>\n",
       "    <tr>\n",
       "      <th>4</th>\n",
       "      <td>Appalachian State</td>\n",
       "      <td>Sun Belt</td>\n",
       "      <td>Scott Satterfield</td>\n",
       "      <td>712500</td>\n",
       "      <td>712500</td>\n",
       "      <td>295000.0</td>\n",
       "      <td>145000.0</td>\n",
       "      <td>0</td>\n",
       "      <td>2160417.0</td>\n",
       "      <td>24150</td>\n",
       "      <td>81</td>\n",
       "      <td>57.0</td>\n",
       "      <td>194500000.0</td>\n",
       "      <td>655</td>\n",
       "      <td>349</td>\n",
       "      <td>36.211515</td>\n",
       "      <td>-81.685506</td>\n",
       "    </tr>\n",
       "    <tr>\n",
       "      <th>...</th>\n",
       "      <td>...</td>\n",
       "      <td>...</td>\n",
       "      <td>...</td>\n",
       "      <td>...</td>\n",
       "      <td>...</td>\n",
       "      <td>...</td>\n",
       "      <td>...</td>\n",
       "      <td>...</td>\n",
       "      <td>...</td>\n",
       "      <td>...</td>\n",
       "      <td>...</td>\n",
       "      <td>...</td>\n",
       "      <td>...</td>\n",
       "      <td>...</td>\n",
       "      <td>...</td>\n",
       "      <td>...</td>\n",
       "      <td>...</td>\n",
       "    </tr>\n",
       "    <tr>\n",
       "      <th>120</th>\n",
       "      <td>West Virginia</td>\n",
       "      <td>Big 12</td>\n",
       "      <td>Dana Holgorsen</td>\n",
       "      <td>3605000</td>\n",
       "      <td>3617500</td>\n",
       "      <td>1000000.0</td>\n",
       "      <td>90000.0</td>\n",
       "      <td>0</td>\n",
       "      <td>7150000.0</td>\n",
       "      <td>60000</td>\n",
       "      <td>83</td>\n",
       "      <td>53.0</td>\n",
       "      <td>34050353.0</td>\n",
       "      <td>772</td>\n",
       "      <td>522</td>\n",
       "      <td>39.652220</td>\n",
       "      <td>-79.955175</td>\n",
       "    </tr>\n",
       "    <tr>\n",
       "      <th>121</th>\n",
       "      <td>Western Kentucky</td>\n",
       "      <td>C-USA</td>\n",
       "      <td>Mike Sanford Jr.</td>\n",
       "      <td>800000</td>\n",
       "      <td>805850</td>\n",
       "      <td>400000.0</td>\n",
       "      <td>0.0</td>\n",
       "      <td>0</td>\n",
       "      <td>1200000.0</td>\n",
       "      <td>22113</td>\n",
       "      <td>75</td>\n",
       "      <td>65.0</td>\n",
       "      <td>13764592.0</td>\n",
       "      <td>607</td>\n",
       "      <td>421</td>\n",
       "      <td>36.984877</td>\n",
       "      <td>-86.459014</td>\n",
       "    </tr>\n",
       "    <tr>\n",
       "      <th>122</th>\n",
       "      <td>Western Michigan</td>\n",
       "      <td>MAC</td>\n",
       "      <td>Tim Lester</td>\n",
       "      <td>800000</td>\n",
       "      <td>800000</td>\n",
       "      <td>346500.0</td>\n",
       "      <td>39250.0</td>\n",
       "      <td>0</td>\n",
       "      <td>800000.0</td>\n",
       "      <td>30200</td>\n",
       "      <td>74</td>\n",
       "      <td>40.0</td>\n",
       "      <td>12863908.0</td>\n",
       "      <td>593</td>\n",
       "      <td>473</td>\n",
       "      <td>42.285755</td>\n",
       "      <td>-85.601004</td>\n",
       "    </tr>\n",
       "    <tr>\n",
       "      <th>123</th>\n",
       "      <td>Wisconsin</td>\n",
       "      <td>Big Ten</td>\n",
       "      <td>Paul Chryst</td>\n",
       "      <td>3750000</td>\n",
       "      <td>3750000</td>\n",
       "      <td>NaN</td>\n",
       "      <td>290000.0</td>\n",
       "      <td>0</td>\n",
       "      <td>6000000.0</td>\n",
       "      <td>80321</td>\n",
       "      <td>88</td>\n",
       "      <td>79.0</td>\n",
       "      <td>88713614.0</td>\n",
       "      <td>735</td>\n",
       "      <td>512</td>\n",
       "      <td>43.069938</td>\n",
       "      <td>-89.412746</td>\n",
       "    </tr>\n",
       "    <tr>\n",
       "      <th>124</th>\n",
       "      <td>Wyoming</td>\n",
       "      <td>Mt. West</td>\n",
       "      <td>Craig Bohl</td>\n",
       "      <td>1412000</td>\n",
       "      <td>1412000</td>\n",
       "      <td>450000.0</td>\n",
       "      <td>236000.0</td>\n",
       "      <td>0</td>\n",
       "      <td>8016667.0</td>\n",
       "      <td>29181</td>\n",
       "      <td>90</td>\n",
       "      <td>53.0</td>\n",
       "      <td>20381998.0</td>\n",
       "      <td>556</td>\n",
       "      <td>595</td>\n",
       "      <td>41.311936</td>\n",
       "      <td>-105.569065</td>\n",
       "    </tr>\n",
       "  </tbody>\n",
       "</table>\n",
       "<p>125 rows × 17 columns</p>\n",
       "</div>"
      ],
      "text/plain": [
       "                    School Conference              Coach  SchoolPay  TotalPay   \n",
       "0                Air Force   Mt. West       Troy Calhoun     885000    885000  \\\n",
       "1                    Akron        MAC       Terry Bowden     411000    412500   \n",
       "2                  Alabama        SEC         Nick Saban    8307000   8307000   \n",
       "3    Alabama at Birmingham      C-USA         Bill Clark     900000    900000   \n",
       "4        Appalachian State   Sun Belt  Scott Satterfield     712500    712500   \n",
       "..                     ...        ...                ...        ...       ...   \n",
       "120          West Virginia     Big 12     Dana Holgorsen    3605000   3617500   \n",
       "121       Western Kentucky      C-USA   Mike Sanford Jr.     800000    805850   \n",
       "122       Western Michigan        MAC         Tim Lester     800000    800000   \n",
       "123              Wisconsin    Big Ten        Paul Chryst    3750000   3750000   \n",
       "124                Wyoming   Mt. West         Craig Bohl    1412000   1412000   \n",
       "\n",
       "         Bonus  BonusPaid  AssistantPay      Buyout  StadiumSize  GSR   FGR   \n",
       "0     247000.0        NaN             0         NaN        52237   93   NaN  \\\n",
       "1     225000.0    50000.0             0    688500.0        30000   74  76.0   \n",
       "2    1100000.0   500000.0             0  33600000.0       101821   89  66.0   \n",
       "3     950000.0   165471.0             0   3847500.0        71594   80  44.0   \n",
       "4     295000.0   145000.0             0   2160417.0        24150   81  57.0   \n",
       "..         ...        ...           ...         ...          ...  ...   ...   \n",
       "120  1000000.0    90000.0             0   7150000.0        60000   83  53.0   \n",
       "121   400000.0        0.0             0   1200000.0        22113   75  65.0   \n",
       "122   346500.0    39250.0             0    800000.0        30200   74  40.0   \n",
       "123        NaN   290000.0             0   6000000.0        80321   88  79.0   \n",
       "124   450000.0   236000.0             0   8016667.0        29181   90  53.0   \n",
       "\n",
       "         Revenue  Wins  Losses   Latitude   Longitude  \n",
       "0            NaN   424     338  38.996907 -104.843688  \n",
       "1     12354872.0   528     583  41.072570  -81.508384  \n",
       "2    140831439.0   953     335  33.207490  -87.550392  \n",
       "3     28840003.0   168     179        NaN         NaN  \n",
       "4    194500000.0   655     349  36.211515  -81.685506  \n",
       "..           ...   ...     ...        ...         ...  \n",
       "120   34050353.0   772     522  39.652220  -79.955175  \n",
       "121   13764592.0   607     421  36.984877  -86.459014  \n",
       "122   12863908.0   593     473  42.285755  -85.601004  \n",
       "123   88713614.0   735     512  43.069938  -89.412746  \n",
       "124   20381998.0   556     595  41.311936 -105.569065  \n",
       "\n",
       "[125 rows x 17 columns]"
      ]
     },
     "execution_count": 24,
     "metadata": {},
     "output_type": "execute_result"
    }
   ],
   "source": [
    "coaches_df"
   ]
  },
  {
   "cell_type": "markdown",
   "id": "7047b5bb",
   "metadata": {},
   "source": [
    "## Summary Data"
   ]
  },
  {
   "cell_type": "code",
   "execution_count": 25,
   "id": "ccd82bf4",
   "metadata": {},
   "outputs": [
    {
     "name": "stdout",
     "output_type": "stream",
     "text": [
      "There are 125 unique schools in the coaches data set\n"
     ]
    }
   ],
   "source": [
    "#Seeing how many unique schools are in the data set\n",
    "\n",
    "print(f\"There are {len(coaches_df['School'].unique())} unique schools in the coaches data set\")"
   ]
  },
  {
   "cell_type": "code",
   "execution_count": 26,
   "id": "51eb6c70",
   "metadata": {},
   "outputs": [
    {
     "name": "stdout",
     "output_type": "stream",
     "text": [
      "There are 11 unique conferences in the coaches data set, they are: ['Mt. West', 'MAC', 'SEC', 'C-USA', 'Sun Belt', 'Pac-12', 'Ind.', 'ACC', 'AAC', 'Big Ten', 'Big 12']\n"
     ]
    }
   ],
   "source": [
    "#Seeing how many unique conferences there are in the data set\n",
    "\n",
    "print(f\"There are {len(coaches_df['Conference'].unique())} unique conferences in the coaches data set, they are: \\\n",
    "{list(coaches_df['Conference'].unique())}\")"
   ]
  },
  {
   "cell_type": "code",
   "execution_count": 27,
   "id": "fb40cb28",
   "metadata": {},
   "outputs": [
    {
     "name": "stdout",
     "output_type": "stream",
     "text": [
      "There are 125 unique coaches in the coaches data set\n"
     ]
    }
   ],
   "source": [
    "print(f\"There are {len(coaches_df['Coach'].unique())} unique coaches in the coaches data set\")"
   ]
  },
  {
   "cell_type": "code",
   "execution_count": 28,
   "id": "65c6b747",
   "metadata": {},
   "outputs": [
    {
     "data": {
      "text/plain": [
       "count    1.250000e+02\n",
       "mean     2.410301e+06\n",
       "std      1.881377e+06\n",
       "min      3.900000e+05\n",
       "25%      8.015040e+05\n",
       "50%      1.831580e+06\n",
       "75%      3.605000e+06\n",
       "max      8.307000e+06\n",
       "Name: SchoolPay, dtype: float64"
      ]
     },
     "execution_count": 28,
     "metadata": {},
     "output_type": "execute_result"
    }
   ],
   "source": [
    "#Summary stats for the School Pay column\n",
    "\n",
    "coaches_df['SchoolPay'].describe()"
   ]
  },
  {
   "cell_type": "code",
   "execution_count": 29,
   "id": "f159b932",
   "metadata": {},
   "outputs": [
    {
     "data": {
      "text/plain": [
       "count    1.250000e+02\n",
       "mean     2.417061e+06\n",
       "std      1.885752e+06\n",
       "min      3.900000e+05\n",
       "25%      8.058500e+05\n",
       "50%      1.900008e+06\n",
       "75%      3.617500e+06\n",
       "max      8.307000e+06\n",
       "Name: TotalPay, dtype: float64"
      ]
     },
     "execution_count": 29,
     "metadata": {},
     "output_type": "execute_result"
    }
   ],
   "source": [
    "#Summary stats for the Total Pay column\n",
    "\n",
    "coaches_df['TotalPay'].describe()"
   ]
  },
  {
   "cell_type": "code",
   "execution_count": 30,
   "id": "1ac0a39f",
   "metadata": {},
   "outputs": [
    {
     "data": {
      "text/plain": [
       "count    1.080000e+02\n",
       "mean     8.690469e+05\n",
       "std      6.339712e+05\n",
       "min      5.000000e+04\n",
       "25%      3.915000e+05\n",
       "50%      7.700000e+05\n",
       "75%      1.150000e+06\n",
       "max      3.100000e+06\n",
       "Name: Bonus, dtype: float64"
      ]
     },
     "execution_count": 30,
     "metadata": {},
     "output_type": "execute_result"
    }
   ],
   "source": [
    "#Summary stats for the Bonus column\n",
    "\n",
    "coaches_df['Bonus'].describe()"
   ]
  },
  {
   "cell_type": "code",
   "execution_count": 31,
   "id": "80735f46",
   "metadata": {},
   "outputs": [
    {
     "data": {
      "text/plain": [
       "count    8.900000e+01\n",
       "mean     1.495296e+05\n",
       "std      2.373974e+05\n",
       "min      0.000000e+00\n",
       "25%      2.000000e+04\n",
       "50%      6.500000e+04\n",
       "75%      1.800000e+05\n",
       "max      1.350000e+06\n",
       "Name: BonusPaid, dtype: float64"
      ]
     },
     "execution_count": 31,
     "metadata": {},
     "output_type": "execute_result"
    }
   ],
   "source": [
    "#Summary stats for the Bonus Paid column\n",
    "\n",
    "coaches_df['BonusPaid'].describe()"
   ]
  },
  {
   "cell_type": "code",
   "execution_count": 32,
   "id": "4269462d",
   "metadata": {},
   "outputs": [
    {
     "data": {
      "text/plain": [
       "count    125.0\n",
       "mean       0.0\n",
       "std        0.0\n",
       "min        0.0\n",
       "25%        0.0\n",
       "50%        0.0\n",
       "75%        0.0\n",
       "max        0.0\n",
       "Name: AssistantPay, dtype: float64"
      ]
     },
     "execution_count": 32,
     "metadata": {},
     "output_type": "execute_result"
    }
   ],
   "source": [
    "#Summary stats for the Assistant Pay column\n",
    "\n",
    "coaches_df['AssistantPay'].describe()"
   ]
  },
  {
   "cell_type": "code",
   "execution_count": 33,
   "id": "a4bfdf8d",
   "metadata": {},
   "outputs": [
    {
     "data": {
      "text/plain": [
       "count    1.080000e+02\n",
       "mean     8.136523e+06\n",
       "std      1.041392e+07\n",
       "min      0.000000e+00\n",
       "25%      1.200000e+06\n",
       "50%      4.018758e+06\n",
       "75%      1.070750e+07\n",
       "max      6.812500e+07\n",
       "Name: Buyout, dtype: float64"
      ]
     },
     "execution_count": 33,
     "metadata": {},
     "output_type": "execute_result"
    }
   ],
   "source": [
    "#Summary stats for the Buyout column\n",
    "\n",
    "coaches_df['Buyout'].describe()"
   ]
  },
  {
   "cell_type": "code",
   "execution_count": 34,
   "id": "f928ede1",
   "metadata": {},
   "outputs": [
    {
     "data": {
      "text/plain": [
       "count       125.000000\n",
       "mean      52518.928000\n",
       "std       22953.985867\n",
       "min       15000.000000\n",
       "25%       30964.000000\n",
       "50%       50000.000000\n",
       "75%       65500.000000\n",
       "max      107601.000000\n",
       "Name: StadiumSize, dtype: float64"
      ]
     },
     "execution_count": 34,
     "metadata": {},
     "output_type": "execute_result"
    }
   ],
   "source": [
    "#Summary stats for the Stadium Size column\n",
    "\n",
    "coaches_df['StadiumSize'].describe()"
   ]
  },
  {
   "cell_type": "code",
   "execution_count": 35,
   "id": "79b1cea0",
   "metadata": {},
   "outputs": [
    {
     "data": {
      "text/plain": [
       "count    125.000000\n",
       "mean      81.448000\n",
       "std        8.611186\n",
       "min       54.000000\n",
       "25%       75.000000\n",
       "50%       82.000000\n",
       "75%       88.000000\n",
       "max       97.000000\n",
       "Name: GSR, dtype: float64"
      ]
     },
     "execution_count": 35,
     "metadata": {},
     "output_type": "execute_result"
    }
   ],
   "source": [
    "#Summary stats for the GSR column\n",
    "\n",
    "coaches_df['GSR'].describe()"
   ]
  },
  {
   "cell_type": "code",
   "execution_count": 36,
   "id": "3731c44f",
   "metadata": {},
   "outputs": [
    {
     "data": {
      "text/plain": [
       "count    122.000000\n",
       "mean      62.786885\n",
       "std       10.116862\n",
       "min       30.000000\n",
       "25%       57.000000\n",
       "50%       64.000000\n",
       "75%       69.000000\n",
       "max       90.000000\n",
       "Name: FGR, dtype: float64"
      ]
     },
     "execution_count": 36,
     "metadata": {},
     "output_type": "execute_result"
    }
   ],
   "source": [
    "##Summary stats for the FGR column\n",
    "\n",
    "coaches_df['FGR'].describe()"
   ]
  },
  {
   "cell_type": "code",
   "execution_count": 37,
   "id": "95095976",
   "metadata": {},
   "outputs": [
    {
     "data": {
      "text/plain": [
       "count    1.100000e+02\n",
       "mean     5.188111e+07\n",
       "std      4.072004e+07\n",
       "min      6.682465e+06\n",
       "25%      1.502958e+07\n",
       "50%      4.777673e+07\n",
       "75%      7.175769e+07\n",
       "max      1.945000e+08\n",
       "Name: Revenue, dtype: float64"
      ]
     },
     "execution_count": 37,
     "metadata": {},
     "output_type": "execute_result"
    }
   ],
   "source": [
    "#Summary stats for the Revenue column\n",
    "\n",
    "coaches_df['Revenue'].describe()"
   ]
  },
  {
   "cell_type": "code",
   "execution_count": 38,
   "id": "7da666f4",
   "metadata": {},
   "outputs": [
    {
     "data": {
      "text/plain": [
       "count    125.000000\n",
       "mean     587.056000\n",
       "std      201.284236\n",
       "min       42.000000\n",
       "25%      523.000000\n",
       "50%      604.000000\n",
       "75%      711.000000\n",
       "max      989.000000\n",
       "Name: Wins, dtype: float64"
      ]
     },
     "execution_count": 38,
     "metadata": {},
     "output_type": "execute_result"
    }
   ],
   "source": [
    "#Summary stats for the Wins column\n",
    "\n",
    "coaches_df['Wins'].describe()"
   ]
  },
  {
   "cell_type": "code",
   "execution_count": 39,
   "id": "aef306b8",
   "metadata": {},
   "outputs": [
    {
     "data": {
      "text/plain": [
       "count    125.000000\n",
       "mean     475.688000\n",
       "std      150.150485\n",
       "min       71.000000\n",
       "25%      420.000000\n",
       "50%      498.000000\n",
       "75%      583.000000\n",
       "max      704.000000\n",
       "Name: Losses, dtype: float64"
      ]
     },
     "execution_count": 39,
     "metadata": {},
     "output_type": "execute_result"
    }
   ],
   "source": [
    "#Summary stats for the Losses column\n",
    "\n",
    "coaches_df['Losses'].describe()"
   ]
  },
  {
   "cell_type": "markdown",
   "id": "157da5fb",
   "metadata": {},
   "source": [
    "## Data Visualizations "
   ]
  },
  {
   "cell_type": "markdown",
   "id": "0cd1631e",
   "metadata": {},
   "source": [
    "### Summary Histograms "
   ]
  },
  {
   "cell_type": "code",
   "execution_count": 40,
   "id": "fa738770",
   "metadata": {},
   "outputs": [],
   "source": [
    "#Code to find the optimal number of bins for a histogram\n",
    "\n",
    "# Given summary statistics\n",
    "#count = 110\n",
    "#min_val = 6.682465e+06\n",
    "#max_val = 1.945000e+08\n",
    "#q1 = 1.502958e+07\n",
    "#q3 = 7.175769e+07\n",
    "\n",
    "# Calculate IQR and bin width\n",
    "#iqr = q3 - q1\n",
    "#bin_width = 2 * iqr / (count ** (1/3))\n",
    "\n",
    "# Determine the number of bins based on the bin width\n",
    "#data_range = max_val - min_val\n",
    "#num_bins = int(data_range / bin_width) + 1  # Adding 1 to ensure coverage of the full data range\n",
    "\n",
    "#print(\"Recommended number of bins:\", num_bins)\n"
   ]
  },
  {
   "cell_type": "code",
   "execution_count": 41,
   "id": "761f08a7",
   "metadata": {},
   "outputs": [
    {
     "data": {
      "image/png": "[encoded data removed]",
      "text/plain": [
       "<Figure size 640x480 with 1 Axes>"
      ]
     },
     "metadata": {},
     "output_type": "display_data"
    }
   ],
   "source": [
    "#Creating histogram of coach salary\n",
    "\n",
    "coaches_df['TotalPay'].plot(kind='hist', color='green', edgecolor='black', bins=8)\n",
    "plt.title('Histogram of Coach Salary')\n",
    "plt.xlabel('Salary in Millions of USD')\n",
    "plt.ylabel('Frequency')\n",
    "plt.tight_layout()\n",
    "plt.show()"
   ]
  },
  {
   "cell_type": "code",
   "execution_count": 42,
   "id": "6004d46f",
   "metadata": {},
   "outputs": [
    {
     "data": {
      "image/png": "[encoded data removed]",
      "text/plain": [
       "<Figure size 640x480 with 1 Axes>"
      ]
     },
     "metadata": {},
     "output_type": "display_data"
    }
   ],
   "source": [
    "#Creating histogram of stadium sizes\n",
    "\n",
    "coaches_df['StadiumSize'].plot(kind='hist', color='darkorange', edgecolor='black', bins=7)\n",
    "plt.title('Histogram of Stadium Size')\n",
    "plt.xlabel('Stadium Capacity')\n",
    "plt.ylabel('Frequency')\n",
    "plt.tight_layout()\n",
    "plt.show()"
   ]
  },
  {
   "cell_type": "code",
   "execution_count": 43,
   "id": "0a4cb7fa",
   "metadata": {},
   "outputs": [
    {
     "data": {
      "image/png": "[encoded data removed]",
      "text/plain": [
       "<Figure size 640x480 with 1 Axes>"
      ]
     },
     "metadata": {},
     "output_type": "display_data"
    }
   ],
   "source": [
    "#Creating histogram of school revenue\n",
    "\n",
    "coaches_df['Revenue'].plot(kind='hist', color='navy', edgecolor='black', bins=8)\n",
    "plt.title('Histogram of School Revenue')\n",
    "plt.xlabel('Revenue in 100s of Millions USD')\n",
    "plt.ylabel('Frequency')\n",
    "plt.tight_layout()\n",
    "plt.show()"
   ]
  },
  {
   "cell_type": "markdown",
   "id": "6cf0ec31",
   "metadata": {},
   "source": [
    "### Average total pay by conference"
   ]
  },
  {
   "cell_type": "code",
   "execution_count": 44,
   "id": "1648bc08",
   "metadata": {},
   "outputs": [
    {
     "data": {
      "image/png": "[encoded data removed]",
      "text/plain": [
       "<Figure size 1000x600 with 1 Axes>"
      ]
     },
     "metadata": {},
     "output_type": "display_data"
    }
   ],
   "source": [
    "# Group data by 'Conference' and calculate the average TotalPay for each conference\n",
    "conference_pay = coaches_df.groupby('Conference')['TotalPay'].mean()\n",
    "\n",
    "# Create a bar plot\n",
    "plt.figure(figsize=(10, 6))\n",
    "conference_pay.plot(kind='bar', color='skyblue')\n",
    "plt.title('Average Total Pay by Conference')\n",
    "plt.xlabel('Conference')\n",
    "plt.ylabel('Average Total Pay (in Millions)')\n",
    "plt.xticks(rotation=45, ha='right')\n",
    "plt.tight_layout()\n",
    "plt.show()"
   ]
  },
  {
   "cell_type": "code",
   "execution_count": 45,
   "id": "fb013d29",
   "metadata": {},
   "outputs": [
    {
     "data": {
      "image/png": "[encoded data removed]",
      "text/plain": [
       "<Figure size 1000x600 with 1 Axes>"
      ]
     },
     "metadata": {},
     "output_type": "display_data"
    }
   ],
   "source": [
    "#Creating a box plot to show more detail in the average TotalPay by Conference\n",
    "\n",
    "plt.figure(figsize=(10, 6))\n",
    "plt.boxplot([coaches_df[coaches_df['Conference'] == conference]['TotalPay'] for conference in coaches_df['Conference'].unique()])\n",
    "plt.xticks(range(1, len(coaches_df['Conference'].unique()) + 1), coaches_df['Conference'].unique(), rotation=45, ha='right')\n",
    "plt.title('Total Pay Box Plot by Conference')\n",
    "plt.xlabel('Conference')\n",
    "plt.ylabel('Total Pay in Millions of USD')\n",
    "plt.tight_layout()\n",
    "plt.show()"
   ]
  },
  {
   "cell_type": "markdown",
   "id": "93477799",
   "metadata": {},
   "source": [
    "### Total pay by stadium size "
   ]
  },
  {
   "cell_type": "code",
   "execution_count": 46,
   "id": "2f4fe06e",
   "metadata": {},
   "outputs": [
    {
     "data": {
      "image/png": "[encoded data removed]",
      "text/plain": [
       "<Figure size 1000x600 with 1 Axes>"
      ]
     },
     "metadata": {},
     "output_type": "display_data"
    }
   ],
   "source": [
    "#Total pay by stadium size\n",
    "\n",
    "# Creating a scatter plot\n",
    "plt.figure(figsize=(10, 6))\n",
    "plt.scatter(coaches_df['StadiumSize'], coaches_df['TotalPay'], alpha=0.5, color='green')\n",
    "plt.xlabel('Stadium Size')\n",
    "plt.ylabel('Total Pay in Millions of USD')\n",
    "plt.title('Total Pay by Stadium Size')\n",
    "x = coaches_df['StadiumSize']\n",
    "y = coaches_df['TotalPay']\n",
    "coefficients = np.polyfit(x, y, 1)\n",
    "polynomial = np.poly1d(coefficients)\n",
    "plt.plot(x, polynomial(x), color='blue', label='Line of Best Fit')\n",
    "plt.legend()\n",
    "plt.show()"
   ]
  },
  {
   "cell_type": "markdown",
   "id": "dbfeb448",
   "metadata": {},
   "source": [
    "### Total pay by GSR"
   ]
  },
  {
   "cell_type": "code",
   "execution_count": 47,
   "id": "dfc7f049",
   "metadata": {},
   "outputs": [
    {
     "data": {
      "image/png": "[encoded data removed]",
      "text/plain": [
       "<Figure size 1000x600 with 1 Axes>"
      ]
     },
     "metadata": {},
     "output_type": "display_data"
    }
   ],
   "source": [
    "#Total pay by GSR\n",
    "\n",
    "# Creating a scatter plot\n",
    "plt.figure(figsize=(10, 6))\n",
    "plt.scatter(coaches_df['GSR'], coaches_df['TotalPay'], alpha=0.5, color='goldenrod')\n",
    "plt.xlabel('GSR')\n",
    "plt.ylabel('Total Pay in Millions of USD')\n",
    "plt.title('Total Pay by GSR')\n",
    "x = coaches_df['GSR']\n",
    "y = coaches_df['TotalPay']\n",
    "coefficients = np.polyfit(x, y, 1)\n",
    "polynomial = np.poly1d(coefficients)\n",
    "plt.plot(x, polynomial(x), color='blue', label='Line of Best Fit')\n",
    "plt.legend()\n",
    "plt.show()"
   ]
  },
  {
   "cell_type": "code",
   "execution_count": 48,
   "id": "65f0fca6",
   "metadata": {},
   "outputs": [],
   "source": [
    "#Total pay by FGR\n",
    "\n",
    "# Creating a scatter plot\n",
    "#plt.figure(figsize=(10, 6))\n",
    "#plt.scatter(coaches_df['GSR'], coaches_df['TotalPay'], alpha=0.5, color='goldenrod')\n",
    "#plt.xlabel('GSR')\n",
    "#plt.ylabel('Total Pay in Millions of USD')\n",
    "#plt.title('Total Pay by GSR')\n",
    "#x = coaches_df['FGR']\n",
    "#y = coaches_df['TotalPay']\n",
    "#coefficients = np.polyfit(x, y, 1)\n",
    "#polynomial = np.poly1d(coefficients)\n",
    "#plt.plot(x, polynomial(x), color='blue', label='Line of Best Fit')\n",
    "#plt.legend()\n",
    "#plt.show()"
   ]
  },
  {
   "cell_type": "markdown",
   "id": "5418801e",
   "metadata": {},
   "source": [
    "### Total pay by Revenue "
   ]
  },
  {
   "cell_type": "code",
   "execution_count": 49,
   "id": "8644bebf",
   "metadata": {},
   "outputs": [
    {
     "data": {
      "image/png": "[encoded data removed]",
      "text/plain": [
       "<Figure size 1000x600 with 1 Axes>"
      ]
     },
     "metadata": {},
     "output_type": "display_data"
    }
   ],
   "source": [
    "#Total pay by revenue\n",
    "\n",
    "# Creating a scatter plot\n",
    "plt.figure(figsize=(10, 6))\n",
    "plt.scatter(coaches_df['Revenue'], coaches_df['TotalPay'], alpha=0.5, color='navy')\n",
    "plt.xlabel('Revenue')\n",
    "plt.ylabel('Total Pay in Millions of USD')\n",
    "plt.title('Total Pay by Revenue')\n",
    "plt.show()"
   ]
  },
  {
   "cell_type": "markdown",
   "id": "381c7aac",
   "metadata": {},
   "source": [
    "### Total pay by Wins "
   ]
  },
  {
   "cell_type": "code",
   "execution_count": 50,
   "id": "1892bc05",
   "metadata": {},
   "outputs": [
    {
     "data": {
      "image/png": "[encoded data removed]",
      "text/plain": [
       "<Figure size 1000x600 with 1 Axes>"
      ]
     },
     "metadata": {},
     "output_type": "display_data"
    }
   ],
   "source": [
    "#Total pay by wins\n",
    "\n",
    "# Creating a scatter plot\n",
    "plt.figure(figsize=(10, 6))\n",
    "plt.scatter(coaches_df['Wins'], coaches_df['TotalPay'], alpha=0.5, color='red')\n",
    "plt.xlabel('Wins')\n",
    "plt.ylabel('Total Pay in Millions of USD')\n",
    "plt.title('Total Pay by Wins')\n",
    "x = coaches_df['Wins']\n",
    "y = coaches_df['TotalPay']\n",
    "coefficients = np.polyfit(x, y, 1)\n",
    "polynomial = np.poly1d(coefficients)\n",
    "plt.plot(x, polynomial(x), color='blue', label='Line of Best Fit')\n",
    "plt.legend()\n",
    "plt.show()"
   ]
  },
  {
   "cell_type": "markdown",
   "id": "3b27d716",
   "metadata": {},
   "source": [
    "### Total pay by Losses "
   ]
  },
  {
   "cell_type": "code",
   "execution_count": 51,
   "id": "8c38fc0d",
   "metadata": {},
   "outputs": [
    {
     "data": {
      "image/png": "[encoded data removed]",
      "text/plain": [
       "<Figure size 1000x600 with 1 Axes>"
      ]
     },
     "metadata": {},
     "output_type": "display_data"
    }
   ],
   "source": [
    "#Total pay by losses\n",
    "\n",
    "# Creating a scatter plot\n",
    "plt.figure(figsize=(10, 6))\n",
    "plt.scatter(coaches_df['Losses'], coaches_df['TotalPay'], alpha=0.5, color='black')\n",
    "plt.xlabel('Losses')\n",
    "plt.ylabel('Total Pay in Millions of USD')\n",
    "plt.title('Total Pay by Losses')\n",
    "x = coaches_df['Losses']\n",
    "y = coaches_df['TotalPay']\n",
    "coefficients = np.polyfit(x, y, 1)\n",
    "polynomial = np.poly1d(coefficients)\n",
    "plt.plot(x, polynomial(x), color='blue', label='Line of Best Fit')\n",
    "plt.legend()\n",
    "plt.show()"
   ]
  },
  {
   "cell_type": "markdown",
   "id": "7ab0e429",
   "metadata": {},
   "source": [
    "## Data Modeling "
   ]
  },
  {
   "cell_type": "code",
   "execution_count": 52,
   "id": "2bad2567",
   "metadata": {},
   "outputs": [],
   "source": [
    "#Dropping any NA values to not mess with the validity of the model\n",
    "\n",
    "coaches_df.dropna(inplace=True)\n",
    "coaches_df = coaches_df.reset_index(drop=True)"
   ]
  },
  {
   "cell_type": "code",
   "execution_count": 53,
   "id": "e217c6ab",
   "metadata": {},
   "outputs": [],
   "source": [
    "#Defining predictor and response variables\n",
    "#The X variables have been narrowed down to only those that have a significant effect on key values\n",
    "\n",
    "X = coaches_df[['Buyout', 'StadiumSize', 'Revenue', 'Wins']]\n",
    "y = coaches_df['TotalPay']"
   ]
  },
  {
   "cell_type": "code",
   "execution_count": 54,
   "id": "9245860f",
   "metadata": {},
   "outputs": [],
   "source": [
    "#Creating test and training sets\n",
    "\n",
    "X_train, X_test, y_train, y_test = train_test_split(X, y, test_size=0.2, random_state=42)"
   ]
  },
  {
   "cell_type": "code",
   "execution_count": 55,
   "id": "21707a26",
   "metadata": {},
   "outputs": [
    {
     "data": {
      "text/html": [
       "<style>#sk-container-id-1 {color: black;background-color: white;}#sk-container-id-1 pre{padding: 0;}#sk-container-id-1 div.sk-toggleable {background-color: white;}#sk-container-id-1 label.sk-toggleable__label {cursor: pointer;display: block;width: 100%;margin-bottom: 0;padding: 0.3em;box-sizing: border-box;text-align: center;}#sk-container-id-1 label.sk-toggleable__label-arrow:before {content: \"▸\";float: left;margin-right: 0.25em;color: #696969;}#sk-container-id-1 label.sk-toggleable__label-arrow:hover:before {color: black;}#sk-container-id-1 div.sk-estimator:hover label.sk-toggleable__label-arrow:before {color: black;}#sk-container-id-1 div.sk-toggleable__content {max-height: 0;max-width: 0;overflow: hidden;text-align: left;background-color: #f0f8ff;}#sk-container-id-1 div.sk-toggleable__content pre {margin: 0.2em;color: black;border-radius: 0.25em;background-color: #f0f8ff;}#sk-container-id-1 input.sk-toggleable__control:checked~div.sk-toggleable__content {max-height: 200px;max-width: 100%;overflow: auto;}#sk-container-id-1 input.sk-toggleable__control:checked~label.sk-toggleable__label-arrow:before {content: \"▾\";}#sk-container-id-1 div.sk-estimator input.sk-toggleable__control:checked~label.sk-toggleable__label {background-color: #d4ebff;}#sk-container-id-1 div.sk-label input.sk-toggleable__control:checked~label.sk-toggleable__label {background-color: #d4ebff;}#sk-container-id-1 input.sk-hidden--visually {border: 0;clip: rect(1px 1px 1px 1px);clip: rect(1px, 1px, 1px, 1px);height: 1px;margin: -1px;overflow: hidden;padding: 0;position: absolute;width: 1px;}#sk-container-id-1 div.sk-estimator {font-family: monospace;background-color: #f0f8ff;border: 1px dotted black;border-radius: 0.25em;box-sizing: border-box;margin-bottom: 0.5em;}#sk-container-id-1 div.sk-estimator:hover {background-color: #d4ebff;}#sk-container-id-1 div.sk-parallel-item::after {content: \"\";width: 100%;border-bottom: 1px solid gray;flex-grow: 1;}#sk-container-id-1 div.sk-label:hover label.sk-toggleable__label {background-color: #d4ebff;}#sk-container-id-1 div.sk-serial::before {content: \"\";position: absolute;border-left: 1px solid gray;box-sizing: border-box;top: 0;bottom: 0;left: 50%;z-index: 0;}#sk-container-id-1 div.sk-serial {display: flex;flex-direction: column;align-items: center;background-color: white;padding-right: 0.2em;padding-left: 0.2em;position: relative;}#sk-container-id-1 div.sk-item {position: relative;z-index: 1;}#sk-container-id-1 div.sk-parallel {display: flex;align-items: stretch;justify-content: center;background-color: white;position: relative;}#sk-container-id-1 div.sk-item::before, #sk-container-id-1 div.sk-parallel-item::before {content: \"\";position: absolute;border-left: 1px solid gray;box-sizing: border-box;top: 0;bottom: 0;left: 50%;z-index: -1;}#sk-container-id-1 div.sk-parallel-item {display: flex;flex-direction: column;z-index: 1;position: relative;background-color: white;}#sk-container-id-1 div.sk-parallel-item:first-child::after {align-self: flex-end;width: 50%;}#sk-container-id-1 div.sk-parallel-item:last-child::after {align-self: flex-start;width: 50%;}#sk-container-id-1 div.sk-parallel-item:only-child::after {width: 0;}#sk-container-id-1 div.sk-dashed-wrapped {border: 1px dashed gray;margin: 0 0.4em 0.5em 0.4em;box-sizing: border-box;padding-bottom: 0.4em;background-color: white;}#sk-container-id-1 div.sk-label label {font-family: monospace;font-weight: bold;display: inline-block;line-height: 1.2em;}#sk-container-id-1 div.sk-label-container {text-align: center;}#sk-container-id-1 div.sk-container {/* jupyter's `normalize.less` sets `[hidden] { display: none; }` but bootstrap.min.css set `[hidden] { display: none !important; }` so we also need the `!important` here to be able to override the default hidden behavior on the sphinx rendered scikit-learn.org. See: https://github.com/scikit-learn/scikit-learn/issues/21755 */display: inline-block !important;position: relative;}#sk-container-id-1 div.sk-text-repr-fallback {display: none;}</style><div id=\"sk-container-id-1\" class=\"sk-top-container\"><div class=\"sk-text-repr-fallback\"><pre>LinearRegression()</pre><b>In a Jupyter environment, please rerun this cell to show the HTML representation or trust the notebook. <br />On GitHub, the HTML representation is unable to render, please try loading this page with nbviewer.org.</b></div><div class=\"sk-container\" hidden><div class=\"sk-item\"><div class=\"sk-estimator sk-toggleable\"><input class=\"sk-toggleable__control sk-hidden--visually\" id=\"sk-estimator-id-1\" type=\"checkbox\" checked><label for=\"sk-estimator-id-1\" class=\"sk-toggleable__label sk-toggleable__label-arrow\">LinearRegression</label><div class=\"sk-toggleable__content\"><pre>LinearRegression()</pre></div></div></div></div></div>"
      ],
      "text/plain": [
       "LinearRegression()"
      ]
     },
     "execution_count": 55,
     "metadata": {},
     "output_type": "execute_result"
    }
   ],
   "source": [
    "#Creating model\n",
    "model = LinearRegression()\n",
    "\n",
    "#Training model\n",
    "model.fit(X_train, y_train)"
   ]
  },
  {
   "cell_type": "code",
   "execution_count": 56,
   "id": "906480f8",
   "metadata": {},
   "outputs": [
    {
     "name": "stdout",
     "output_type": "stream",
     "text": [
      "Mean Squared Error: 561394329365.90\n",
      "R-squared: 0.85\n"
     ]
    }
   ],
   "source": [
    "#Finding the MSE and R-Squared values\n",
    "\n",
    "y_pred = model.predict(X_test)\n",
    "\n",
    "mse = mean_squared_error(y_test, y_pred)\n",
    "r2 = r2_score(y_test, y_pred)\n",
    "\n",
    "print(f\"Mean Squared Error: {mse:.2f}\")\n",
    "print(f\"R-squared: {r2:.2f}\")"
   ]
  },
  {
   "cell_type": "code",
   "execution_count": 57,
   "id": "e8ff9b3e",
   "metadata": {},
   "outputs": [
    {
     "name": "stdout",
     "output_type": "stream",
     "text": [
      "Adjusted R-squared: 0.80\n"
     ]
    }
   ],
   "source": [
    "#Adjusted R-squared value\n",
    "\n",
    "n = len(y_test)\n",
    "k = X_test.shape[1]\n",
    "\n",
    "# Calculate the regular R-squared\n",
    "r2 = r2_score(y_test, y_pred)\n",
    "\n",
    "# Calculate the adjusted R-squared\n",
    "adjusted_r2 = 1 - (1 - r2) * (n - 1) / (n - k - 1)\n",
    "\n",
    "print(f\"Adjusted R-squared: {adjusted_r2:.2f}\")\n"
   ]
  },
  {
   "cell_type": "markdown",
   "id": "99c039cb",
   "metadata": {},
   "source": [
    "### Using SHAP to visualize predictor variable importance "
   ]
  },
  {
   "cell_type": "code",
   "execution_count": 58,
   "id": "c4878ee0",
   "metadata": {},
   "outputs": [],
   "source": [
    "#Creating SHAP explainer model\n",
    "\n",
    "explainer = shap.Explainer(model, X_train)\n",
    "shap_values = explainer(X_test)"
   ]
  },
  {
   "cell_type": "code",
   "execution_count": 59,
   "id": "5bd9e40d",
   "metadata": {},
   "outputs": [
    {
     "data": {
      "image/png": "[encoded data removed]",
      "text/plain": [
       "<Figure size 800x310 with 1 Axes>"
      ]
     },
     "metadata": {},
     "output_type": "display_data"
    }
   ],
   "source": [
    "shap.summary_plot(shap_values, X_test, plot_type=\"bar\")\n",
    "plt.show()"
   ]
  },
  {
   "cell_type": "markdown",
   "id": "421bee1e",
   "metadata": {},
   "source": [
    "### Finding projected Syracuse coach salary "
   ]
  },
  {
   "cell_type": "code",
   "execution_count": 60,
   "id": "2bda7ece",
   "metadata": {},
   "outputs": [
    {
     "name": "stdout",
     "output_type": "stream",
     "text": [
      "Recommended Salary for Syracuse: $2,689,767.20\n"
     ]
    }
   ],
   "source": [
    "#Finding recommended Syracuse coach salary\n",
    "\n",
    "syracuse_data = {\n",
    "    'Buyout': [10000000],\n",
    "    'StadiumSize': [49250],\n",
    "    'Revenue': [44613716],\n",
    "    'Wins': [737],  \n",
    "}\n",
    "\n",
    "# Converting dictionary into data frame\n",
    "syracuse_df = pd.DataFrame(syracuse_data)\n",
    "\n",
    "# Making recommendation\n",
    "predicted_salary_syracuse = model.predict(syracuse_df)\n",
    "\n",
    "print(f\"Recommended Salary for Syracuse: ${predicted_salary_syracuse[0]:,.2f}\")\n"
   ]
  },
  {
   "cell_type": "markdown",
   "id": "82d0c82d",
   "metadata": {},
   "source": [
    "### Syracuse coach salary if they were in the Big East "
   ]
  },
  {
   "cell_type": "code",
   "execution_count": 61,
   "id": "8fdd83cc",
   "metadata": {},
   "outputs": [
    {
     "data": {
      "text/plain": [
       "3638751.0"
      ]
     },
     "execution_count": 61,
     "metadata": {},
     "output_type": "execute_result"
    }
   ],
   "source": [
    "#Finding out the mean salary of coaches in the ACC (Syracuse is currently in this conference)\n",
    "\n",
    "acc_coaches = coaches_df[coaches_df['Conference'] == 'ACC']\n",
    "\n",
    "acc_coaches\n",
    "\n",
    "acc_coaches['TotalPay'].mean()"
   ]
  },
  {
   "cell_type": "code",
   "execution_count": 62,
   "id": "3e7534db",
   "metadata": {},
   "outputs": [
    {
     "data": {
      "text/plain": [
       "1592083.3333333333"
      ]
     },
     "execution_count": 62,
     "metadata": {},
     "output_type": "execute_result"
    }
   ],
   "source": [
    "#Finding out the mean salary of coaches in the Big East (now called the AAC)\n",
    "\n",
    "big_east_coaches = coaches_df[coaches_df['Conference'] == 'AAC']\n",
    "\n",
    "big_east_coaches\n",
    "\n",
    "big_east_coaches['TotalPay'].mean()"
   ]
  },
  {
   "cell_type": "code",
   "execution_count": 63,
   "id": "dfd14ee2",
   "metadata": {},
   "outputs": [
    {
     "data": {
      "text/plain": [
       "4353310.636363637"
      ]
     },
     "execution_count": 63,
     "metadata": {},
     "output_type": "execute_result"
    }
   ],
   "source": [
    "#Finding out the mean salary of coaches in the Big Ten\n",
    "\n",
    "big_ten_coaches = coaches_df[coaches_df['Conference'] == 'Big Ten']\n",
    "\n",
    "big_ten_coaches\n",
    "\n",
    "big_ten_coaches['TotalPay'].mean()"
   ]
  },
  {
   "cell_type": "code",
   "execution_count": 64,
   "id": "d6133e93",
   "metadata": {},
   "outputs": [
    {
     "name": "stdout",
     "output_type": "stream",
     "text": [
      "Predicted Salary for Syracuse in the Big East: $1,350,678.38\n"
     ]
    }
   ],
   "source": [
    "#Coach salary is on average %56.25 smaller in the AAC than the ACC, using this percentage we can calculate what the \\\n",
    "#Syracuse football coaches salary would be if they were in the AAC.\n",
    "\n",
    "syr_coach_salary = coaches_df.iloc[65, 4]\n",
    "\n",
    "print(f\"Predicted Salary for Syracuse in the Big East: ${syr_coach_salary * 0.5625:,.2f}\")"
   ]
  },
  {
   "cell_type": "code",
   "execution_count": 65,
   "id": "b084a8e0",
   "metadata": {},
   "outputs": [
    {
     "name": "stdout",
     "output_type": "stream",
     "text": [
      "Predicted Salary for Syracuse in the Big Ten: $2,873,283.10\n"
     ]
    }
   ],
   "source": [
    "#Coach salary is on averag %19.66 bigger in the Big Ten than the AAC, using this percentage we can calculate what the \\\n",
    "#Syracuse football coaches salary would be if they were in the Big Ten\n",
    " \n",
    "\n",
    "increase_percent = 19.66\n",
    "increased_salary = syr_coach_salary * (1 + increase_percent / 100)\n",
    "print(f\"Predicted Salary for Syracuse in the Big Ten: ${increased_salary:,.2f}\")\n"
   ]
  },
  {
   "cell_type": "markdown",
   "id": "e51c8dbd",
   "metadata": {},
   "source": [
    "## Data Set Display "
   ]
  },
  {
   "cell_type": "code",
   "execution_count": 66,
   "id": "6667eb4b",
   "metadata": {
    "scrolled": true
   },
   "outputs": [
    {
     "data": {
      "text/html": [
       "<div>\n",
       "<style scoped>\n",
       "    .dataframe tbody tr th:only-of-type {\n",
       "        vertical-align: middle;\n",
       "    }\n",
       "\n",
       "    .dataframe tbody tr th {\n",
       "        vertical-align: top;\n",
       "    }\n",
       "\n",
       "    .dataframe thead th {\n",
       "        text-align: right;\n",
       "    }\n",
       "</style>\n",
       "<table border=\"1\" class=\"dataframe\">\n",
       "  <thead>\n",
       "    <tr style=\"text-align: right;\">\n",
       "      <th></th>\n",
       "      <th>School</th>\n",
       "      <th>Conference</th>\n",
       "      <th>Coach</th>\n",
       "      <th>SchoolPay</th>\n",
       "      <th>TotalPay</th>\n",
       "      <th>Bonus</th>\n",
       "      <th>BonusPaid</th>\n",
       "      <th>AssistantPay</th>\n",
       "      <th>Buyout</th>\n",
       "      <th>StadiumSize</th>\n",
       "      <th>GSR</th>\n",
       "      <th>FGR</th>\n",
       "      <th>Revenue</th>\n",
       "      <th>Wins</th>\n",
       "      <th>Losses</th>\n",
       "      <th>Latitude</th>\n",
       "      <th>Longitude</th>\n",
       "    </tr>\n",
       "  </thead>\n",
       "  <tbody>\n",
       "    <tr>\n",
       "      <th>0</th>\n",
       "      <td>Akron</td>\n",
       "      <td>MAC</td>\n",
       "      <td>Terry Bowden</td>\n",
       "      <td>411000</td>\n",
       "      <td>412500</td>\n",
       "      <td>225000.0</td>\n",
       "      <td>50000.0</td>\n",
       "      <td>0</td>\n",
       "      <td>688500.0</td>\n",
       "      <td>30000</td>\n",
       "      <td>74</td>\n",
       "      <td>76.0</td>\n",
       "      <td>12354872.0</td>\n",
       "      <td>528</td>\n",
       "      <td>583</td>\n",
       "      <td>41.072570</td>\n",
       "      <td>-81.508384</td>\n",
       "    </tr>\n",
       "    <tr>\n",
       "      <th>1</th>\n",
       "      <td>Alabama</td>\n",
       "      <td>SEC</td>\n",
       "      <td>Nick Saban</td>\n",
       "      <td>8307000</td>\n",
       "      <td>8307000</td>\n",
       "      <td>1100000.0</td>\n",
       "      <td>500000.0</td>\n",
       "      <td>0</td>\n",
       "      <td>33600000.0</td>\n",
       "      <td>101821</td>\n",
       "      <td>89</td>\n",
       "      <td>66.0</td>\n",
       "      <td>140831439.0</td>\n",
       "      <td>953</td>\n",
       "      <td>335</td>\n",
       "      <td>33.207490</td>\n",
       "      <td>-87.550392</td>\n",
       "    </tr>\n",
       "    <tr>\n",
       "      <th>2</th>\n",
       "      <td>Appalachian State</td>\n",
       "      <td>Sun Belt</td>\n",
       "      <td>Scott Satterfield</td>\n",
       "      <td>712500</td>\n",
       "      <td>712500</td>\n",
       "      <td>295000.0</td>\n",
       "      <td>145000.0</td>\n",
       "      <td>0</td>\n",
       "      <td>2160417.0</td>\n",
       "      <td>24150</td>\n",
       "      <td>81</td>\n",
       "      <td>57.0</td>\n",
       "      <td>194500000.0</td>\n",
       "      <td>655</td>\n",
       "      <td>349</td>\n",
       "      <td>36.211515</td>\n",
       "      <td>-81.685506</td>\n",
       "    </tr>\n",
       "    <tr>\n",
       "      <th>3</th>\n",
       "      <td>Arkansas State</td>\n",
       "      <td>Sun Belt</td>\n",
       "      <td>Blake Anderson</td>\n",
       "      <td>825000</td>\n",
       "      <td>825000</td>\n",
       "      <td>185000.0</td>\n",
       "      <td>25000.0</td>\n",
       "      <td>0</td>\n",
       "      <td>300000.0</td>\n",
       "      <td>30964</td>\n",
       "      <td>75</td>\n",
       "      <td>52.0</td>\n",
       "      <td>8593341.0</td>\n",
       "      <td>490</td>\n",
       "      <td>518</td>\n",
       "      <td>35.848990</td>\n",
       "      <td>-90.667695</td>\n",
       "    </tr>\n",
       "    <tr>\n",
       "      <th>4</th>\n",
       "      <td>Auburn</td>\n",
       "      <td>SEC</td>\n",
       "      <td>Gus Malzahn</td>\n",
       "      <td>6700000</td>\n",
       "      <td>6705656</td>\n",
       "      <td>1400000.0</td>\n",
       "      <td>375000.0</td>\n",
       "      <td>0</td>\n",
       "      <td>32143750.0</td>\n",
       "      <td>87451</td>\n",
       "      <td>83</td>\n",
       "      <td>65.0</td>\n",
       "      <td>128960499.0</td>\n",
       "      <td>793</td>\n",
       "      <td>464</td>\n",
       "      <td>32.602362</td>\n",
       "      <td>-85.488911</td>\n",
       "    </tr>\n",
       "    <tr>\n",
       "      <th>...</th>\n",
       "      <td>...</td>\n",
       "      <td>...</td>\n",
       "      <td>...</td>\n",
       "      <td>...</td>\n",
       "      <td>...</td>\n",
       "      <td>...</td>\n",
       "      <td>...</td>\n",
       "      <td>...</td>\n",
       "      <td>...</td>\n",
       "      <td>...</td>\n",
       "      <td>...</td>\n",
       "      <td>...</td>\n",
       "      <td>...</td>\n",
       "      <td>...</td>\n",
       "      <td>...</td>\n",
       "      <td>...</td>\n",
       "      <td>...</td>\n",
       "    </tr>\n",
       "    <tr>\n",
       "      <th>75</th>\n",
       "      <td>Washington State</td>\n",
       "      <td>Pac-12</td>\n",
       "      <td>Mike Leach</td>\n",
       "      <td>3500000</td>\n",
       "      <td>3500000</td>\n",
       "      <td>725000.0</td>\n",
       "      <td>75000.0</td>\n",
       "      <td>0</td>\n",
       "      <td>4900000.0</td>\n",
       "      <td>35117</td>\n",
       "      <td>86</td>\n",
       "      <td>57.0</td>\n",
       "      <td>51125157.0</td>\n",
       "      <td>567</td>\n",
       "      <td>579</td>\n",
       "      <td>46.731968</td>\n",
       "      <td>-117.160586</td>\n",
       "    </tr>\n",
       "    <tr>\n",
       "      <th>76</th>\n",
       "      <td>West Virginia</td>\n",
       "      <td>Big 12</td>\n",
       "      <td>Dana Holgorsen</td>\n",
       "      <td>3605000</td>\n",
       "      <td>3617500</td>\n",
       "      <td>1000000.0</td>\n",
       "      <td>90000.0</td>\n",
       "      <td>0</td>\n",
       "      <td>7150000.0</td>\n",
       "      <td>60000</td>\n",
       "      <td>83</td>\n",
       "      <td>53.0</td>\n",
       "      <td>34050353.0</td>\n",
       "      <td>772</td>\n",
       "      <td>522</td>\n",
       "      <td>39.652220</td>\n",
       "      <td>-79.955175</td>\n",
       "    </tr>\n",
       "    <tr>\n",
       "      <th>77</th>\n",
       "      <td>Western Kentucky</td>\n",
       "      <td>C-USA</td>\n",
       "      <td>Mike Sanford Jr.</td>\n",
       "      <td>800000</td>\n",
       "      <td>805850</td>\n",
       "      <td>400000.0</td>\n",
       "      <td>0.0</td>\n",
       "      <td>0</td>\n",
       "      <td>1200000.0</td>\n",
       "      <td>22113</td>\n",
       "      <td>75</td>\n",
       "      <td>65.0</td>\n",
       "      <td>13764592.0</td>\n",
       "      <td>607</td>\n",
       "      <td>421</td>\n",
       "      <td>36.984877</td>\n",
       "      <td>-86.459014</td>\n",
       "    </tr>\n",
       "    <tr>\n",
       "      <th>78</th>\n",
       "      <td>Western Michigan</td>\n",
       "      <td>MAC</td>\n",
       "      <td>Tim Lester</td>\n",
       "      <td>800000</td>\n",
       "      <td>800000</td>\n",
       "      <td>346500.0</td>\n",
       "      <td>39250.0</td>\n",
       "      <td>0</td>\n",
       "      <td>800000.0</td>\n",
       "      <td>30200</td>\n",
       "      <td>74</td>\n",
       "      <td>40.0</td>\n",
       "      <td>12863908.0</td>\n",
       "      <td>593</td>\n",
       "      <td>473</td>\n",
       "      <td>42.285755</td>\n",
       "      <td>-85.601004</td>\n",
       "    </tr>\n",
       "    <tr>\n",
       "      <th>79</th>\n",
       "      <td>Wyoming</td>\n",
       "      <td>Mt. West</td>\n",
       "      <td>Craig Bohl</td>\n",
       "      <td>1412000</td>\n",
       "      <td>1412000</td>\n",
       "      <td>450000.0</td>\n",
       "      <td>236000.0</td>\n",
       "      <td>0</td>\n",
       "      <td>8016667.0</td>\n",
       "      <td>29181</td>\n",
       "      <td>90</td>\n",
       "      <td>53.0</td>\n",
       "      <td>20381998.0</td>\n",
       "      <td>556</td>\n",
       "      <td>595</td>\n",
       "      <td>41.311936</td>\n",
       "      <td>-105.569065</td>\n",
       "    </tr>\n",
       "  </tbody>\n",
       "</table>\n",
       "<p>80 rows × 17 columns</p>\n",
       "</div>"
      ],
      "text/plain": [
       "               School Conference              Coach  SchoolPay  TotalPay   \n",
       "0               Akron        MAC       Terry Bowden     411000    412500  \\\n",
       "1             Alabama        SEC         Nick Saban    8307000   8307000   \n",
       "2   Appalachian State   Sun Belt  Scott Satterfield     712500    712500   \n",
       "3      Arkansas State   Sun Belt     Blake Anderson     825000    825000   \n",
       "4              Auburn        SEC        Gus Malzahn    6700000   6705656   \n",
       "..                ...        ...                ...        ...       ...   \n",
       "75   Washington State     Pac-12         Mike Leach    3500000   3500000   \n",
       "76      West Virginia     Big 12     Dana Holgorsen    3605000   3617500   \n",
       "77   Western Kentucky      C-USA   Mike Sanford Jr.     800000    805850   \n",
       "78   Western Michigan        MAC         Tim Lester     800000    800000   \n",
       "79            Wyoming   Mt. West         Craig Bohl    1412000   1412000   \n",
       "\n",
       "        Bonus  BonusPaid  AssistantPay      Buyout  StadiumSize  GSR   FGR   \n",
       "0    225000.0    50000.0             0    688500.0        30000   74  76.0  \\\n",
       "1   1100000.0   500000.0             0  33600000.0       101821   89  66.0   \n",
       "2    295000.0   145000.0             0   2160417.0        24150   81  57.0   \n",
       "3    185000.0    25000.0             0    300000.0        30964   75  52.0   \n",
       "4   1400000.0   375000.0             0  32143750.0        87451   83  65.0   \n",
       "..        ...        ...           ...         ...          ...  ...   ...   \n",
       "75   725000.0    75000.0             0   4900000.0        35117   86  57.0   \n",
       "76  1000000.0    90000.0             0   7150000.0        60000   83  53.0   \n",
       "77   400000.0        0.0             0   1200000.0        22113   75  65.0   \n",
       "78   346500.0    39250.0             0    800000.0        30200   74  40.0   \n",
       "79   450000.0   236000.0             0   8016667.0        29181   90  53.0   \n",
       "\n",
       "        Revenue  Wins  Losses   Latitude   Longitude  \n",
       "0    12354872.0   528     583  41.072570  -81.508384  \n",
       "1   140831439.0   953     335  33.207490  -87.550392  \n",
       "2   194500000.0   655     349  36.211515  -81.685506  \n",
       "3     8593341.0   490     518  35.848990  -90.667695  \n",
       "4   128960499.0   793     464  32.602362  -85.488911  \n",
       "..          ...   ...     ...        ...         ...  \n",
       "75   51125157.0   567     579  46.731968 -117.160586  \n",
       "76   34050353.0   772     522  39.652220  -79.955175  \n",
       "77   13764592.0   607     421  36.984877  -86.459014  \n",
       "78   12863908.0   593     473  42.285755  -85.601004  \n",
       "79   20381998.0   556     595  41.311936 -105.569065  \n",
       "\n",
       "[80 rows x 17 columns]"
      ]
     },
     "execution_count": 66,
     "metadata": {},
     "output_type": "execute_result"
    }
   ],
   "source": [
    "#This box is for changing the pandas data frame options to either display all rows or just the head and tail.\n",
    "### REMEMBER TO RESET AFTER EXPANDING TO MAX ROWS ###\n",
    "\n",
    "# Set display options to show max rows\n",
    "#pd.set_option('display.max_rows', None)\n",
    "#pd.set_option('display.max_columns', None)\n",
    "#coaches_df\n",
    "\n",
    "# Revert display options back to default\n",
    "pd.reset_option('display.max_rows')\n",
    "pd.reset_option('display.max_columns')\n",
    "coaches_df"
   ]
  },
  {
   "cell_type": "code",
   "execution_count": null,
   "id": "d81a69e7",
   "metadata": {},
   "outputs": [],
   "source": []
  }
 ],
 "metadata": {
  "kernelspec": {
   "display_name": "Python 3 (ipykernel)",
   "language": "python",
   "name": "python3"
  },
  "language_info": {
   "codemirror_mode": {
    "name": "ipython",
    "version": 3
   },
   "file_extension": ".py",
   "mimetype": "text/x-python",
   "name": "python",
   "nbconvert_exporter": "python",
   "pygments_lexer": "ipython3",
   "version": "3.10.10"
  }
 },
 "nbformat": 4,
 "nbformat_minor": 5
}
